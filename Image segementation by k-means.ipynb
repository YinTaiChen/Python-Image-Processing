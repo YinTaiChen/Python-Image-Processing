{
 "cells": [
  {
   "cell_type": "markdown",
   "metadata": {},
   "source": [
    "# Image segmentation by k-means"
   ]
  },
  {
   "cell_type": "markdown",
   "metadata": {},
   "source": [
    "Author: YinTaiChen"
   ]
  },
  {
   "cell_type": "markdown",
   "metadata": {},
   "source": [
    "## Packages"
   ]
  },
  {
   "cell_type": "code",
   "execution_count": 43,
   "metadata": {},
   "outputs": [],
   "source": [
    "%matplotlib inline\n",
    "\n",
    "import cv2\n",
    "\n",
    "import numpy as np\n",
    "import matplotlib.pyplot as plt\n",
    "from PIL import Image\n",
    "\n",
    "from sklearn.cluster import KMeans"
   ]
  },
  {
   "cell_type": "markdown",
   "metadata": {},
   "source": [
    "## Feature Extraction"
   ]
  },
  {
   "cell_type": "code",
   "execution_count": 2,
   "metadata": {},
   "outputs": [],
   "source": [
    "test_img = cv2.imread(\"Lenna.png\")"
   ]
  },
  {
   "cell_type": "code",
   "execution_count": 17,
   "metadata": {},
   "outputs": [],
   "source": [
    "height = test_img.shape[0]\n",
    "width = test_img.shape[1]\n",
    "\n",
    "features = []\n",
    "\n",
    "for h in range(height):\n",
    "    for w in range(width):\n",
    "\n",
    "        pixel = test_img[h][w]\n",
    "        features.append((h, w, pixel[0], pixel[1], pixel[2]))"
   ]
  },
  {
   "cell_type": "code",
   "execution_count": 19,
   "metadata": {},
   "outputs": [
    {
     "data": {
      "text/plain": [
       "262144"
      ]
     },
     "execution_count": 19,
     "metadata": {},
     "output_type": "execute_result"
    }
   ],
   "source": [
    "len(features)"
   ]
  },
  {
   "cell_type": "markdown",
   "metadata": {},
   "source": [
    "## Clustering"
   ]
  },
  {
   "cell_type": "code",
   "execution_count": 26,
   "metadata": {},
   "outputs": [],
   "source": [
    "pred = KMeans(n_clusters=2, random_state=random_state).fit_predict(features)"
   ]
  },
  {
   "cell_type": "code",
   "execution_count": 29,
   "metadata": {},
   "outputs": [
    {
     "data": {
      "text/plain": [
       "262144"
      ]
     },
     "execution_count": 29,
     "metadata": {},
     "output_type": "execute_result"
    }
   ],
   "source": [
    "len(pred)"
   ]
  },
  {
   "cell_type": "code",
   "execution_count": 38,
   "metadata": {},
   "outputs": [
    {
     "name": "stdout",
     "output_type": "stream",
     "text": [
      "125739\n"
     ]
    }
   ],
   "source": [
    "print(sum(pred))"
   ]
  },
  {
   "cell_type": "code",
   "execution_count": 49,
   "metadata": {},
   "outputs": [],
   "source": [
    "segment = np.zeros((512, 512, 3), dtype=np.uint8)"
   ]
  },
  {
   "cell_type": "code",
   "execution_count": 54,
   "metadata": {},
   "outputs": [],
   "source": [
    "for i in range(len(pred)):\n",
    "    #print(pred[i])\n",
    "    height = features[i][0]\n",
    "    width = features[i][1]\n",
    "    #print(height, width)\n",
    "    if pred[i] == 0:\n",
    "        segment[height][width] = [255, 0, 0]\n",
    "    elif pred[i] == 1:\n",
    "        segment[height][width] = [0, 255, 0]"
   ]
  },
  {
   "cell_type": "code",
   "execution_count": 57,
   "metadata": {},
   "outputs": [
    {
     "data": {
      "text/plain": [
       "<matplotlib.image.AxesImage at 0x7f4c80e48b38>"
      ]
     },
     "execution_count": 57,
     "metadata": {},
     "output_type": "execute_result"
    },
    {
     "data": {
      "image/png": "[encoded data removed]",
      "text/plain": [
       "<matplotlib.figure.Figure at 0x7f4c80ef1dd8>"
      ]
     },
     "metadata": {},
     "output_type": "display_data"
    }
   ],
   "source": [
    "plt.imshow(segment)"
   ]
  },
  {
   "cell_type": "code",
   "execution_count": 68,
   "metadata": {},
   "outputs": [
    {
     "name": "stdout",
     "output_type": "stream",
     "text": [
      "[[194, 225, 29], [67, 3, 108], [67, 205, 222], [117, 17, 167], [86, 212, 73], [222, 134, 74], [54, 68, 45], [22, 86, 227], [23, 33, 156], [94, 188, 184], [120, 146, 135], [226, 40, 168], [42, 27, 96], [153, 209, 118], [80, 83, 111], [254, 112, 72], [169, 225, 226], [188, 249, 205], [243, 37, 80], [2, 13, 71], [112, 164, 150], [107, 221, 218], [91, 54, 171], [183, 111, 42], [213, 54, 247], [104, 252, 17], [39, 62, 49], [216, 99, 119], [54, 178, 97], [139, 19, 239], [67, 148, 97], [73, 113, 247], [130, 234, 37], [183, 223, 46], [62, 7, 188], [142, 217, 191], [209, 220, 24], [22, 3, 162], [73, 13, 161], [231, 51, 249], [177, 9, 254], [162, 177, 116], [198, 93, 67], [202, 59, 5], [236, 156, 74], [231, 71, 89], [231, 94, 155], [237, 63, 4], [151, 180, 67], [2, 160, 249], [183, 198, 14], [162, 5, 14], [118, 93, 39], [60, 255, 36], [137, 65, 204], [230, 177, 202], [232, 242, 197], [227, 160, 56], [222, 176, 45], [138, 42, 19], [31, 71, 154], [122, 105, 157], [207, 0, 35], [103, 254, 121], [69, 139, 166], [223, 174, 42], [249, 250, 223], [102, 52, 68], [142, 192, 86], [139, 89, 245], [57, 57, 80], [174, 214, 155], [13, 33, 7], [78, 88, 107], [197, 186, 68], [20, 96, 135], [161, 26, 55], [167, 52, 234], [243, 59, 255], [110, 201, 86], [191, 34, 148], [96, 206, 23], [139, 203, 119], [64, 133, 150], [135, 22, 103], [239, 112, 184], [191, 174, 189], [18, 235, 168], [221, 102, 125], [182, 130, 57], [48, 99, 95], [209, 141, 234], [185, 191, 177], [21, 241, 227], [134, 137, 93], [83, 175, 157], [38, 182, 203], [35, 71, 241], [22, 138, 161], [36, 198, 206]]\n"
     ]
    }
   ],
   "source": [
    "colors = []\n",
    "\n",
    "for i in range(100):\n",
    "    colors.append([np.random.randint(0, 256), np.random.randint(0, 256), np.random.randint(0, 256)])"
   ]
  },
  {
   "cell_type": "code",
   "execution_count": 70,
   "metadata": {},
   "outputs": [
    {
     "name": "stdout",
     "output_type": "stream",
     "text": [
      "2\n",
      "3\n",
      "4\n",
      "5\n",
      "6\n",
      "7\n",
      "8\n",
      "9\n",
      "10\n",
      "11\n",
      "12\n",
      "13\n",
      "14\n",
      "15\n",
      "16\n",
      "17\n",
      "18\n",
      "19\n",
      "20\n",
      "21\n",
      "22\n",
      "23\n",
      "24\n",
      "25\n",
      "26\n",
      "27\n",
      "28\n",
      "29\n",
      "30\n",
      "31\n",
      "32\n",
      "33\n",
      "34\n",
      "35\n",
      "36\n",
      "37\n",
      "38\n",
      "39\n",
      "40\n",
      "41\n",
      "42\n",
      "43\n",
      "44\n",
      "45\n",
      "46\n",
      "47\n",
      "48\n",
      "49\n",
      "50\n",
      "51\n",
      "52\n",
      "53\n",
      "54\n",
      "55\n",
      "56\n",
      "57\n",
      "58\n",
      "59\n",
      "60\n",
      "61\n",
      "62\n",
      "63\n",
      "64\n",
      "65\n",
      "66\n",
      "67\n",
      "68\n",
      "69\n",
      "70\n",
      "71\n",
      "72\n",
      "73\n",
      "74\n",
      "75\n",
      "76\n",
      "77\n",
      "78\n",
      "79\n",
      "80\n",
      "81\n",
      "82\n",
      "83\n",
      "84\n",
      "85\n",
      "86\n",
      "87\n",
      "88\n",
      "89\n",
      "90\n",
      "91\n",
      "92\n",
      "93\n",
      "94\n",
      "95\n",
      "96\n",
      "97\n",
      "98\n",
      "99\n"
     ]
    }
   ],
   "source": [
    "for k in range(2, 100):\n",
    "    print(k)\n",
    "    pred = KMeans(n_clusters=k, random_state=random_state).fit_predict(features)\n",
    "    segment = np.zeros((512, 512, 3), dtype=np.uint8)\n",
    "    \n",
    "    for i in range(len(pred)):\n",
    "        height = features[i][0]\n",
    "        width = features[i][1]\n",
    "        segment[height][width] = colors[pred[i]]\n",
    "        \n",
    "    result = Image.fromarray(segment)\n",
    "    result.save(\"segment_\"+str(k)+\".jpg\")"
   ]
  },
  {
   "cell_type": "markdown",
   "metadata": {},
   "source": [
    "## Generate GIF"
   ]
  },
  {
   "cell_type": "code",
   "execution_count": 71,
   "metadata": {},
   "outputs": [],
   "source": [
    "import imageio"
   ]
  },
  {
   "cell_type": "code",
   "execution_count": 74,
   "metadata": {},
   "outputs": [],
   "source": [
    "images = []\n",
    "for i in range(2, 100):\n",
    "    filename = \"segment_\"+str(i)+\".jpg\"\n",
    "    images.append(imageio.imread(filename))\n",
    "for j in range(40):\n",
    "    filename = \"segment_\"+str(99)+\".jpg\"\n",
    "    images.append(imageio.imread(filename))\n",
    "imageio.mimsave('danny_segmentation.gif', images)"
   ]
  }
 ],
 "metadata": {
  "kernelspec": {
   "display_name": "Python 3",
   "language": "python",
   "name": "python3"
  },
  "language_info": {
   "codemirror_mode": {
    "name": "ipython",
    "version": 3
   },
   "file_extension": ".py",
   "mimetype": "text/x-python",
   "name": "python",
   "nbconvert_exporter": "python",
   "pygments_lexer": "ipython3",
   "version": "3.5.2"
  }
 },
 "nbformat": 4,
 "nbformat_minor": 2
}
